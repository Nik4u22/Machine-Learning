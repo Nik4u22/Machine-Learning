{
 "cells": [
  {
   "cell_type": "markdown",
   "id": "17d8f82a",
   "metadata": {},
   "source": [
    "\"\"\"\n",
    "@author: Nikhil Jagnade\n",
    "company: Analytics Sakha\n",
    "date: 28/05/2028\n",
    "\"\"\""
   ]
  },
  {
   "cell_type": "code",
   "execution_count": 2,
   "id": "8b20b59d",
   "metadata": {},
   "outputs": [],
   "source": [
    "# Import libararies\n",
    "import numpy as np\n",
    "import pandas as pd\n",
    "import matplotlib.pyplot as plt\n",
    "import seaborn as sns\n",
    "# Import warnings to handle warnings during runtime\n",
    "import warnings\n",
    "warnings.filterwarnings('ignore')"
   ]
  },
  {
   "cell_type": "code",
   "execution_count": 3,
   "id": "8b26d7d6",
   "metadata": {},
   "outputs": [],
   "source": [
    "# Read dataset using Pandas\n",
    "dataset = pd.read_csv(\"E:/Business Analytics/EDA with Data/ProKabaddi_data.csv\")"
   ]
  },
  {
   "cell_type": "code",
   "execution_count": 4,
   "id": "f29d41f6",
   "metadata": {},
   "outputs": [
    {
     "data": {
      "text/html": [
       "<div>\n",
       "<style scoped>\n",
       "    .dataframe tbody tr th:only-of-type {\n",
       "        vertical-align: middle;\n",
       "    }\n",
       "\n",
       "    .dataframe tbody tr th {\n",
       "        vertical-align: top;\n",
       "    }\n",
       "\n",
       "    .dataframe thead th {\n",
       "        text-align: right;\n",
       "    }\n",
       "</style>\n",
       "<table border=\"1\" class=\"dataframe\">\n",
       "  <thead>\n",
       "    <tr style=\"text-align: right;\">\n",
       "      <th></th>\n",
       "      <th>match_no</th>\n",
       "      <th>stage</th>\n",
       "      <th>team1</th>\n",
       "      <th>team2</th>\n",
       "      <th>team1_score</th>\n",
       "      <th>team2_score</th>\n",
       "      <th>date</th>\n",
       "      <th>location</th>\n",
       "      <th>season</th>\n",
       "    </tr>\n",
       "  </thead>\n",
       "  <tbody>\n",
       "    <tr>\n",
       "      <th>0</th>\n",
       "      <td>1</td>\n",
       "      <td>League</td>\n",
       "      <td>U Mumba</td>\n",
       "      <td>Jaipur Pink Panthers</td>\n",
       "      <td>45</td>\n",
       "      <td>31</td>\n",
       "      <td>26-07-2014</td>\n",
       "      <td>Dome@NSCI Svp Stadium, Mumbai, Mumbai</td>\n",
       "      <td>1</td>\n",
       "    </tr>\n",
       "    <tr>\n",
       "      <th>1</th>\n",
       "      <td>2</td>\n",
       "      <td>League</td>\n",
       "      <td>Dabang Delhi KC</td>\n",
       "      <td>Bengaluru Bulls</td>\n",
       "      <td>28</td>\n",
       "      <td>47</td>\n",
       "      <td>27-07-2014</td>\n",
       "      <td>Dome@NSCI Svp Stadium, Mumbai, Mumbai</td>\n",
       "      <td>1</td>\n",
       "    </tr>\n",
       "    <tr>\n",
       "      <th>2</th>\n",
       "      <td>3</td>\n",
       "      <td>League</td>\n",
       "      <td>Bengaluru Bulls</td>\n",
       "      <td>Puneri Paltan</td>\n",
       "      <td>40</td>\n",
       "      <td>37</td>\n",
       "      <td>28-07-2014</td>\n",
       "      <td>Dome@NSCI Svp Stadium, Mumbai, Mumbai</td>\n",
       "      <td>1</td>\n",
       "    </tr>\n",
       "    <tr>\n",
       "      <th>3</th>\n",
       "      <td>4</td>\n",
       "      <td>League</td>\n",
       "      <td>U Mumba</td>\n",
       "      <td>Bengal Warriors</td>\n",
       "      <td>36</td>\n",
       "      <td>25</td>\n",
       "      <td>29-07-2014</td>\n",
       "      <td>Dome@NSCI Svp Stadium, Mumbai, Mumbai</td>\n",
       "      <td>1</td>\n",
       "    </tr>\n",
       "    <tr>\n",
       "      <th>4</th>\n",
       "      <td>5</td>\n",
       "      <td>League</td>\n",
       "      <td>Puneri Paltan</td>\n",
       "      <td>Dabang Delhi KC</td>\n",
       "      <td>31</td>\n",
       "      <td>35</td>\n",
       "      <td>30-07-2014</td>\n",
       "      <td>Dome@NSCI Svp Stadium, Mumbai, Mumbai</td>\n",
       "      <td>1</td>\n",
       "    </tr>\n",
       "  </tbody>\n",
       "</table>\n",
       "</div>"
      ],
      "text/plain": [
       "   match_no   stage            team1                 team2  team1_score  \\\n",
       "0         1  League          U Mumba  Jaipur Pink Panthers           45   \n",
       "1         2  League  Dabang Delhi KC       Bengaluru Bulls           28   \n",
       "2         3  League  Bengaluru Bulls         Puneri Paltan           40   \n",
       "3         4  League          U Mumba       Bengal Warriors           36   \n",
       "4         5  League    Puneri Paltan       Dabang Delhi KC           31   \n",
       "\n",
       "   team2_score        date                               location  season  \n",
       "0           31  26-07-2014  Dome@NSCI Svp Stadium, Mumbai, Mumbai       1  \n",
       "1           47  27-07-2014  Dome@NSCI Svp Stadium, Mumbai, Mumbai       1  \n",
       "2           37  28-07-2014  Dome@NSCI Svp Stadium, Mumbai, Mumbai       1  \n",
       "3           25  29-07-2014  Dome@NSCI Svp Stadium, Mumbai, Mumbai       1  \n",
       "4           35  30-07-2014  Dome@NSCI Svp Stadium, Mumbai, Mumbai       1  "
      ]
     },
     "execution_count": 4,
     "metadata": {},
     "output_type": "execute_result"
    }
   ],
   "source": [
    "# Check the first five records\n",
    "dataset.head()"
   ]
  },
  {
   "cell_type": "code",
   "execution_count": 5,
   "id": "31dfe04f",
   "metadata": {},
   "outputs": [
    {
     "data": {
      "text/html": [
       "<div>\n",
       "<style scoped>\n",
       "    .dataframe tbody tr th:only-of-type {\n",
       "        vertical-align: middle;\n",
       "    }\n",
       "\n",
       "    .dataframe tbody tr th {\n",
       "        vertical-align: top;\n",
       "    }\n",
       "\n",
       "    .dataframe thead th {\n",
       "        text-align: right;\n",
       "    }\n",
       "</style>\n",
       "<table border=\"1\" class=\"dataframe\">\n",
       "  <thead>\n",
       "    <tr style=\"text-align: right;\">\n",
       "      <th></th>\n",
       "      <th>match_no</th>\n",
       "      <th>stage</th>\n",
       "      <th>team1</th>\n",
       "      <th>team2</th>\n",
       "      <th>team1_score</th>\n",
       "      <th>team2_score</th>\n",
       "      <th>date</th>\n",
       "      <th>location</th>\n",
       "      <th>season</th>\n",
       "    </tr>\n",
       "  </thead>\n",
       "  <tbody>\n",
       "    <tr>\n",
       "      <th>785</th>\n",
       "      <td>33</td>\n",
       "      <td>Eliminator 1</td>\n",
       "      <td>UP Yoddha</td>\n",
       "      <td>Puneri Paltan</td>\n",
       "      <td>42</td>\n",
       "      <td>31</td>\n",
       "      <td>21-02-2022</td>\n",
       "      <td>Sheraton Grand Convention Center, Bangalore</td>\n",
       "      <td>8</td>\n",
       "    </tr>\n",
       "    <tr>\n",
       "      <th>786</th>\n",
       "      <td>34</td>\n",
       "      <td>Eliminator 2</td>\n",
       "      <td>Gujarat Giants</td>\n",
       "      <td>Bengaluru Bulls</td>\n",
       "      <td>29</td>\n",
       "      <td>49</td>\n",
       "      <td>21-02-2022</td>\n",
       "      <td>Sheraton Grand Convention Center, Bangalore</td>\n",
       "      <td>8</td>\n",
       "    </tr>\n",
       "    <tr>\n",
       "      <th>787</th>\n",
       "      <td>35</td>\n",
       "      <td>Semi Final</td>\n",
       "      <td>Patna Pirates</td>\n",
       "      <td>UP Yoddha</td>\n",
       "      <td>38</td>\n",
       "      <td>27</td>\n",
       "      <td>23-02-2022</td>\n",
       "      <td>Sheraton Grand Convention Center, Bangalore</td>\n",
       "      <td>8</td>\n",
       "    </tr>\n",
       "    <tr>\n",
       "      <th>788</th>\n",
       "      <td>36</td>\n",
       "      <td>Semi Final</td>\n",
       "      <td>Dabang Delhi KC</td>\n",
       "      <td>Bengaluru Bulls</td>\n",
       "      <td>40</td>\n",
       "      <td>35</td>\n",
       "      <td>23-02-2022</td>\n",
       "      <td>Sheraton Grand Convention Center, Bangalore</td>\n",
       "      <td>8</td>\n",
       "    </tr>\n",
       "    <tr>\n",
       "      <th>789</th>\n",
       "      <td>37</td>\n",
       "      <td>Final</td>\n",
       "      <td>Patna Pirates</td>\n",
       "      <td>Dabang Delhi KC</td>\n",
       "      <td>36</td>\n",
       "      <td>37</td>\n",
       "      <td>25-02-2022</td>\n",
       "      <td>Sheraton Grand Convention Center, Bangalore</td>\n",
       "      <td>8</td>\n",
       "    </tr>\n",
       "  </tbody>\n",
       "</table>\n",
       "</div>"
      ],
      "text/plain": [
       "     match_no         stage            team1            team2  team1_score  \\\n",
       "785        33  Eliminator 1        UP Yoddha    Puneri Paltan           42   \n",
       "786        34  Eliminator 2   Gujarat Giants  Bengaluru Bulls           29   \n",
       "787        35    Semi Final    Patna Pirates        UP Yoddha           38   \n",
       "788        36    Semi Final  Dabang Delhi KC  Bengaluru Bulls           40   \n",
       "789        37         Final    Patna Pirates  Dabang Delhi KC           36   \n",
       "\n",
       "     team2_score        date                                     location  \\\n",
       "785           31  21-02-2022  Sheraton Grand Convention Center, Bangalore   \n",
       "786           49  21-02-2022  Sheraton Grand Convention Center, Bangalore   \n",
       "787           27  23-02-2022  Sheraton Grand Convention Center, Bangalore   \n",
       "788           35  23-02-2022  Sheraton Grand Convention Center, Bangalore   \n",
       "789           37  25-02-2022  Sheraton Grand Convention Center, Bangalore   \n",
       "\n",
       "     season  \n",
       "785       8  \n",
       "786       8  \n",
       "787       8  \n",
       "788       8  \n",
       "789       8  "
      ]
     },
     "execution_count": 5,
     "metadata": {},
     "output_type": "execute_result"
    }
   ],
   "source": [
    "# Check the last five records\n",
    "dataset.tail()"
   ]
  },
  {
   "cell_type": "code",
   "execution_count": 6,
   "id": "c277c24c",
   "metadata": {},
   "outputs": [
    {
     "data": {
      "text/plain": [
       "(790, 9)"
      ]
     },
     "execution_count": 6,
     "metadata": {},
     "output_type": "execute_result"
    }
   ],
   "source": [
    "# check the number of rows and columns\n",
    "dataset.shape"
   ]
  },
  {
   "cell_type": "code",
   "execution_count": 7,
   "id": "e127dcc8",
   "metadata": {},
   "outputs": [
    {
     "data": {
      "text/plain": [
       "Index(['match_no', 'stage', 'team1', 'team2', 'team1_score', 'team2_score',\n",
       "       'date', 'location', 'season'],\n",
       "      dtype='object')"
      ]
     },
     "execution_count": 7,
     "metadata": {},
     "output_type": "execute_result"
    }
   ],
   "source": [
    "# Check no of columns along with name and datatype\n",
    "dataset.columns"
   ]
  },
  {
   "cell_type": "code",
   "execution_count": 8,
   "id": "fd224bcf",
   "metadata": {},
   "outputs": [
    {
     "name": "stdout",
     "output_type": "stream",
     "text": [
      "<class 'pandas.core.frame.DataFrame'>\n",
      "RangeIndex: 790 entries, 0 to 789\n",
      "Data columns (total 9 columns):\n",
      " #   Column       Non-Null Count  Dtype \n",
      "---  ------       --------------  ----- \n",
      " 0   match_no     790 non-null    int64 \n",
      " 1   stage        790 non-null    object\n",
      " 2   team1        790 non-null    object\n",
      " 3   team2        790 non-null    object\n",
      " 4   team1_score  790 non-null    int64 \n",
      " 5   team2_score  790 non-null    int64 \n",
      " 6   date         790 non-null    object\n",
      " 7   location     790 non-null    object\n",
      " 8   season       790 non-null    int64 \n",
      "dtypes: int64(4), object(5)\n",
      "memory usage: 55.7+ KB\n"
     ]
    }
   ],
   "source": [
    "# Check the datatype of each column and count of null values in each column\n",
    "dataset.info()"
   ]
  },
  {
   "cell_type": "code",
   "execution_count": 9,
   "id": "6838c13e",
   "metadata": {},
   "outputs": [
    {
     "data": {
      "text/html": [
       "<div>\n",
       "<style scoped>\n",
       "    .dataframe tbody tr th:only-of-type {\n",
       "        vertical-align: middle;\n",
       "    }\n",
       "\n",
       "    .dataframe tbody tr th {\n",
       "        vertical-align: top;\n",
       "    }\n",
       "\n",
       "    .dataframe thead th {\n",
       "        text-align: right;\n",
       "    }\n",
       "</style>\n",
       "<table border=\"1\" class=\"dataframe\">\n",
       "  <thead>\n",
       "    <tr style=\"text-align: right;\">\n",
       "      <th></th>\n",
       "      <th>match_no</th>\n",
       "      <th>team1_score</th>\n",
       "      <th>team2_score</th>\n",
       "      <th>season</th>\n",
       "    </tr>\n",
       "  </thead>\n",
       "  <tbody>\n",
       "    <tr>\n",
       "      <th>count</th>\n",
       "      <td>790.000000</td>\n",
       "      <td>790.000000</td>\n",
       "      <td>790.000000</td>\n",
       "      <td>790.000000</td>\n",
       "    </tr>\n",
       "    <tr>\n",
       "      <th>mean</th>\n",
       "      <td>37.984810</td>\n",
       "      <td>32.525316</td>\n",
       "      <td>32.713924</td>\n",
       "      <td>5.282278</td>\n",
       "    </tr>\n",
       "    <tr>\n",
       "      <th>std</th>\n",
       "      <td>26.209157</td>\n",
       "      <td>7.153309</td>\n",
       "      <td>7.810602</td>\n",
       "      <td>2.152622</td>\n",
       "    </tr>\n",
       "    <tr>\n",
       "      <th>min</th>\n",
       "      <td>0.000000</td>\n",
       "      <td>15.000000</td>\n",
       "      <td>15.000000</td>\n",
       "      <td>1.000000</td>\n",
       "    </tr>\n",
       "    <tr>\n",
       "      <th>25%</th>\n",
       "      <td>17.000000</td>\n",
       "      <td>27.250000</td>\n",
       "      <td>27.000000</td>\n",
       "      <td>4.000000</td>\n",
       "    </tr>\n",
       "    <tr>\n",
       "      <th>50%</th>\n",
       "      <td>33.000000</td>\n",
       "      <td>32.000000</td>\n",
       "      <td>32.000000</td>\n",
       "      <td>6.000000</td>\n",
       "    </tr>\n",
       "    <tr>\n",
       "      <th>75%</th>\n",
       "      <td>55.000000</td>\n",
       "      <td>37.000000</td>\n",
       "      <td>37.000000</td>\n",
       "      <td>7.000000</td>\n",
       "    </tr>\n",
       "    <tr>\n",
       "      <th>max</th>\n",
       "      <td>99.000000</td>\n",
       "      <td>69.000000</td>\n",
       "      <td>69.000000</td>\n",
       "      <td>8.000000</td>\n",
       "    </tr>\n",
       "  </tbody>\n",
       "</table>\n",
       "</div>"
      ],
      "text/plain": [
       "         match_no  team1_score  team2_score      season\n",
       "count  790.000000   790.000000   790.000000  790.000000\n",
       "mean    37.984810    32.525316    32.713924    5.282278\n",
       "std     26.209157     7.153309     7.810602    2.152622\n",
       "min      0.000000    15.000000    15.000000    1.000000\n",
       "25%     17.000000    27.250000    27.000000    4.000000\n",
       "50%     33.000000    32.000000    32.000000    6.000000\n",
       "75%     55.000000    37.000000    37.000000    7.000000\n",
       "max     99.000000    69.000000    69.000000    8.000000"
      ]
     },
     "execution_count": 9,
     "metadata": {},
     "output_type": "execute_result"
    }
   ],
   "source": [
    "# Descriptive data analysis\n",
    "dataset.describe()"
   ]
  },
  {
   "cell_type": "code",
   "execution_count": 10,
   "id": "138eeedc",
   "metadata": {},
   "outputs": [
    {
     "data": {
      "text/plain": [
       "match_no       0\n",
       "stage          0\n",
       "team1          0\n",
       "team2          0\n",
       "team1_score    0\n",
       "team2_score    0\n",
       "date           0\n",
       "location       0\n",
       "season         0\n",
       "dtype: int64"
      ]
     },
     "execution_count": 10,
     "metadata": {},
     "output_type": "execute_result"
    }
   ],
   "source": [
    "# get the count of null values present in each column \n",
    "dataset.isnull().sum()"
   ]
  },
  {
   "cell_type": "code",
   "execution_count": 11,
   "id": "dc47af30",
   "metadata": {},
   "outputs": [
    {
     "data": {
      "text/plain": [
       "match_no       100\n",
       "stage           17\n",
       "team1           13\n",
       "team2           13\n",
       "team1_score     41\n",
       "team2_score     46\n",
       "date           467\n",
       "location        30\n",
       "season           8\n",
       "dtype: int64"
      ]
     },
     "execution_count": 11,
     "metadata": {},
     "output_type": "execute_result"
    }
   ],
   "source": [
    "# get the count of unique values present in each column\n",
    "dataset.nunique()"
   ]
  },
  {
   "cell_type": "code",
   "execution_count": 12,
   "id": "3ab0c275",
   "metadata": {},
   "outputs": [
    {
     "data": {
      "text/plain": [
       "<AxesSubplot:xlabel='team1_score', ylabel='Density'>"
      ]
     },
     "execution_count": 12,
     "metadata": {},
     "output_type": "execute_result"
    },
    {
     "data": {
      "image/png": "[encoded data removed]",
      "text/plain": [
       "<Figure size 432x288 with 1 Axes>"
      ]
     },
     "metadata": {
      "needs_background": "light"
     },
     "output_type": "display_data"
    }
   ],
   "source": [
    "sns.distplot(dataset['team1_score'].describe())"
   ]
  },
  {
   "cell_type": "code",
   "execution_count": 13,
   "id": "f422c0d2",
   "metadata": {},
   "outputs": [
    {
     "data": {
      "text/plain": [
       "<AxesSubplot:xlabel='team1_score'>"
      ]
     },
     "execution_count": 13,
     "metadata": {},
     "output_type": "execute_result"
    },
    {
     "data": {
      "image/png": "[encoded data removed]",
      "text/plain": [
       "<Figure size 432x288 with 1 Axes>"
      ]
     },
     "metadata": {
      "needs_background": "light"
     },
     "output_type": "display_data"
    }
   ],
   "source": [
    "sns.boxplot(dataset['team1_score'].describe())"
   ]
  },
  {
   "cell_type": "code",
   "execution_count": 14,
   "id": "ca99b245",
   "metadata": {},
   "outputs": [
    {
     "data": {
      "text/plain": [
       "<AxesSubplot:xlabel='team2_score', ylabel='Density'>"
      ]
     },
     "execution_count": 14,
     "metadata": {},
     "output_type": "execute_result"
    },
    {
     "data": {
      "image/png": "[encoded data removed]",
      "text/plain": [
       "<Figure size 432x288 with 1 Axes>"
      ]
     },
     "metadata": {
      "needs_background": "light"
     },
     "output_type": "display_data"
    }
   ],
   "source": [
    "sns.distplot(dataset['team2_score'].describe())"
   ]
  },
  {
   "cell_type": "code",
   "execution_count": 15,
   "id": "46fa3340",
   "metadata": {},
   "outputs": [
    {
     "data": {
      "text/plain": [
       "<AxesSubplot:xlabel='team1_score'>"
      ]
     },
     "execution_count": 15,
     "metadata": {},
     "output_type": "execute_result"
    },
    {
     "data": {
      "image/png": "[encoded data removed]",
      "text/plain": [
       "<Figure size 432x288 with 1 Axes>"
      ]
     },
     "metadata": {
      "needs_background": "light"
     },
     "output_type": "display_data"
    }
   ],
   "source": [
    "sns.boxplot(dataset['team1_score'].describe())"
   ]
  },
  {
   "cell_type": "code",
   "execution_count": 28,
   "id": "08ebb67e",
   "metadata": {},
   "outputs": [
    {
     "name": "stdout",
     "output_type": "stream",
     "text": [
      "0      45\n",
      "1      28\n",
      "2      40\n",
      "3      36\n",
      "4      31\n",
      "       ..\n",
      "785    42\n",
      "786    29\n",
      "787    38\n",
      "788    40\n",
      "789    36\n",
      "Name: team1_score, Length: 790, dtype: int64\n"
     ]
    }
   ],
   "source": [
    "print(dataset[\"team1_score\"])"
   ]
  },
  {
   "cell_type": "code",
   "execution_count": 36,
   "id": "ab1801de",
   "metadata": {},
   "outputs": [
    {
     "name": "stdout",
     "output_type": "stream",
     "text": [
      "0      45\n",
      "1      28\n",
      "2      40\n",
      "3      36\n",
      "4      31\n",
      "       ..\n",
      "785    42\n",
      "786    29\n",
      "787    38\n",
      "788    40\n",
      "789    36\n",
      "Name: team1_score, Length: 790, dtype: int64\n"
     ]
    },
    {
     "data": {
      "text/plain": [
       "True"
      ]
     },
     "execution_count": 36,
     "metadata": {},
     "output_type": "execute_result"
    }
   ],
   "source": [
    "print(dataset[\"team1_score\"])\n",
    "dataset['team1_score'][0] > dataset['team2_score'][0]"
   ]
  },
  {
   "cell_type": "code",
   "execution_count": 84,
   "id": "899eeec1",
   "metadata": {},
   "outputs": [],
   "source": [
    "# Iterate via dataset and add new column result with values{Winner, Loser, Draw}\n",
    "for i, row in dataset.iterrows():\n",
    "    if (dataset['team1_score'][i] > dataset['team2_score'][i]) == True:\n",
    "        dataset['result'][i] = 2\n",
    "    elif (dataset['team1_score'][i] < dataset['team2_score'][i]) == True:\n",
    "        dataset['result'][i] = 0\n",
    "    else:\n",
    "        dataset['result'][i] = 1"
   ]
  },
  {
   "cell_type": "code",
   "execution_count": 85,
   "id": "035e5a3b",
   "metadata": {},
   "outputs": [
    {
     "data": {
      "text/html": [
       "<div>\n",
       "<style scoped>\n",
       "    .dataframe tbody tr th:only-of-type {\n",
       "        vertical-align: middle;\n",
       "    }\n",
       "\n",
       "    .dataframe tbody tr th {\n",
       "        vertical-align: top;\n",
       "    }\n",
       "\n",
       "    .dataframe thead th {\n",
       "        text-align: right;\n",
       "    }\n",
       "</style>\n",
       "<table border=\"1\" class=\"dataframe\">\n",
       "  <thead>\n",
       "    <tr style=\"text-align: right;\">\n",
       "      <th></th>\n",
       "      <th>match_no</th>\n",
       "      <th>stage</th>\n",
       "      <th>team1</th>\n",
       "      <th>team2</th>\n",
       "      <th>team1_score</th>\n",
       "      <th>team2_score</th>\n",
       "      <th>date</th>\n",
       "      <th>location</th>\n",
       "      <th>season</th>\n",
       "      <th>result</th>\n",
       "    </tr>\n",
       "  </thead>\n",
       "  <tbody>\n",
       "    <tr>\n",
       "      <th>0</th>\n",
       "      <td>1</td>\n",
       "      <td>League</td>\n",
       "      <td>U Mumba</td>\n",
       "      <td>Jaipur Pink Panthers</td>\n",
       "      <td>45</td>\n",
       "      <td>31</td>\n",
       "      <td>26-07-2014</td>\n",
       "      <td>Dome@NSCI Svp Stadium, Mumbai, Mumbai</td>\n",
       "      <td>1</td>\n",
       "      <td>2</td>\n",
       "    </tr>\n",
       "    <tr>\n",
       "      <th>1</th>\n",
       "      <td>2</td>\n",
       "      <td>League</td>\n",
       "      <td>Dabang Delhi KC</td>\n",
       "      <td>Bengaluru Bulls</td>\n",
       "      <td>28</td>\n",
       "      <td>47</td>\n",
       "      <td>27-07-2014</td>\n",
       "      <td>Dome@NSCI Svp Stadium, Mumbai, Mumbai</td>\n",
       "      <td>1</td>\n",
       "      <td>0</td>\n",
       "    </tr>\n",
       "    <tr>\n",
       "      <th>2</th>\n",
       "      <td>3</td>\n",
       "      <td>League</td>\n",
       "      <td>Bengaluru Bulls</td>\n",
       "      <td>Puneri Paltan</td>\n",
       "      <td>40</td>\n",
       "      <td>37</td>\n",
       "      <td>28-07-2014</td>\n",
       "      <td>Dome@NSCI Svp Stadium, Mumbai, Mumbai</td>\n",
       "      <td>1</td>\n",
       "      <td>2</td>\n",
       "    </tr>\n",
       "    <tr>\n",
       "      <th>3</th>\n",
       "      <td>4</td>\n",
       "      <td>League</td>\n",
       "      <td>U Mumba</td>\n",
       "      <td>Bengal Warriors</td>\n",
       "      <td>36</td>\n",
       "      <td>25</td>\n",
       "      <td>29-07-2014</td>\n",
       "      <td>Dome@NSCI Svp Stadium, Mumbai, Mumbai</td>\n",
       "      <td>1</td>\n",
       "      <td>2</td>\n",
       "    </tr>\n",
       "    <tr>\n",
       "      <th>4</th>\n",
       "      <td>5</td>\n",
       "      <td>League</td>\n",
       "      <td>Puneri Paltan</td>\n",
       "      <td>Dabang Delhi KC</td>\n",
       "      <td>31</td>\n",
       "      <td>35</td>\n",
       "      <td>30-07-2014</td>\n",
       "      <td>Dome@NSCI Svp Stadium, Mumbai, Mumbai</td>\n",
       "      <td>1</td>\n",
       "      <td>0</td>\n",
       "    </tr>\n",
       "  </tbody>\n",
       "</table>\n",
       "</div>"
      ],
      "text/plain": [
       "   match_no   stage            team1                 team2  team1_score  \\\n",
       "0         1  League          U Mumba  Jaipur Pink Panthers           45   \n",
       "1         2  League  Dabang Delhi KC       Bengaluru Bulls           28   \n",
       "2         3  League  Bengaluru Bulls         Puneri Paltan           40   \n",
       "3         4  League          U Mumba       Bengal Warriors           36   \n",
       "4         5  League    Puneri Paltan       Dabang Delhi KC           31   \n",
       "\n",
       "   team2_score        date                               location  season  \\\n",
       "0           31  26-07-2014  Dome@NSCI Svp Stadium, Mumbai, Mumbai       1   \n",
       "1           47  27-07-2014  Dome@NSCI Svp Stadium, Mumbai, Mumbai       1   \n",
       "2           37  28-07-2014  Dome@NSCI Svp Stadium, Mumbai, Mumbai       1   \n",
       "3           25  29-07-2014  Dome@NSCI Svp Stadium, Mumbai, Mumbai       1   \n",
       "4           35  30-07-2014  Dome@NSCI Svp Stadium, Mumbai, Mumbai       1   \n",
       "\n",
       "   result  \n",
       "0       2  \n",
       "1       0  \n",
       "2       2  \n",
       "3       2  \n",
       "4       0  "
      ]
     },
     "execution_count": 85,
     "metadata": {},
     "output_type": "execute_result"
    }
   ],
   "source": [
    "dataset.head()"
   ]
  },
  {
   "cell_type": "code",
   "execution_count": 60,
   "id": "5077c8b1",
   "metadata": {},
   "outputs": [
    {
     "data": {
      "text/html": [
       "<div>\n",
       "<style scoped>\n",
       "    .dataframe tbody tr th:only-of-type {\n",
       "        vertical-align: middle;\n",
       "    }\n",
       "\n",
       "    .dataframe tbody tr th {\n",
       "        vertical-align: top;\n",
       "    }\n",
       "\n",
       "    .dataframe thead th {\n",
       "        text-align: right;\n",
       "    }\n",
       "</style>\n",
       "<table border=\"1\" class=\"dataframe\">\n",
       "  <thead>\n",
       "    <tr style=\"text-align: right;\">\n",
       "      <th></th>\n",
       "      <th>match_no</th>\n",
       "      <th>stage</th>\n",
       "      <th>team1</th>\n",
       "      <th>team2</th>\n",
       "      <th>team1_score</th>\n",
       "      <th>team2_score</th>\n",
       "      <th>date</th>\n",
       "      <th>location</th>\n",
       "      <th>season</th>\n",
       "      <th>result</th>\n",
       "    </tr>\n",
       "  </thead>\n",
       "  <tbody>\n",
       "    <tr>\n",
       "      <th>785</th>\n",
       "      <td>33</td>\n",
       "      <td>Eliminator 1</td>\n",
       "      <td>UP Yoddha</td>\n",
       "      <td>Puneri Paltan</td>\n",
       "      <td>42</td>\n",
       "      <td>31</td>\n",
       "      <td>21-02-2022</td>\n",
       "      <td>Sheraton Grand Convention Center, Bangalore</td>\n",
       "      <td>8</td>\n",
       "      <td>0</td>\n",
       "    </tr>\n",
       "    <tr>\n",
       "      <th>786</th>\n",
       "      <td>34</td>\n",
       "      <td>Eliminator 2</td>\n",
       "      <td>Gujarat Giants</td>\n",
       "      <td>Bengaluru Bulls</td>\n",
       "      <td>29</td>\n",
       "      <td>49</td>\n",
       "      <td>21-02-2022</td>\n",
       "      <td>Sheraton Grand Convention Center, Bangalore</td>\n",
       "      <td>8</td>\n",
       "      <td>0</td>\n",
       "    </tr>\n",
       "    <tr>\n",
       "      <th>787</th>\n",
       "      <td>35</td>\n",
       "      <td>Semi Final</td>\n",
       "      <td>Patna Pirates</td>\n",
       "      <td>UP Yoddha</td>\n",
       "      <td>38</td>\n",
       "      <td>27</td>\n",
       "      <td>23-02-2022</td>\n",
       "      <td>Sheraton Grand Convention Center, Bangalore</td>\n",
       "      <td>8</td>\n",
       "      <td>0</td>\n",
       "    </tr>\n",
       "    <tr>\n",
       "      <th>788</th>\n",
       "      <td>36</td>\n",
       "      <td>Semi Final</td>\n",
       "      <td>Dabang Delhi KC</td>\n",
       "      <td>Bengaluru Bulls</td>\n",
       "      <td>40</td>\n",
       "      <td>35</td>\n",
       "      <td>23-02-2022</td>\n",
       "      <td>Sheraton Grand Convention Center, Bangalore</td>\n",
       "      <td>8</td>\n",
       "      <td>0</td>\n",
       "    </tr>\n",
       "    <tr>\n",
       "      <th>789</th>\n",
       "      <td>37</td>\n",
       "      <td>Final</td>\n",
       "      <td>Patna Pirates</td>\n",
       "      <td>Dabang Delhi KC</td>\n",
       "      <td>36</td>\n",
       "      <td>37</td>\n",
       "      <td>25-02-2022</td>\n",
       "      <td>Sheraton Grand Convention Center, Bangalore</td>\n",
       "      <td>8</td>\n",
       "      <td>0</td>\n",
       "    </tr>\n",
       "  </tbody>\n",
       "</table>\n",
       "</div>"
      ],
      "text/plain": [
       "     match_no         stage            team1            team2  team1_score  \\\n",
       "785        33  Eliminator 1        UP Yoddha    Puneri Paltan           42   \n",
       "786        34  Eliminator 2   Gujarat Giants  Bengaluru Bulls           29   \n",
       "787        35    Semi Final    Patna Pirates        UP Yoddha           38   \n",
       "788        36    Semi Final  Dabang Delhi KC  Bengaluru Bulls           40   \n",
       "789        37         Final    Patna Pirates  Dabang Delhi KC           36   \n",
       "\n",
       "     team2_score        date                                     location  \\\n",
       "785           31  21-02-2022  Sheraton Grand Convention Center, Bangalore   \n",
       "786           49  21-02-2022  Sheraton Grand Convention Center, Bangalore   \n",
       "787           27  23-02-2022  Sheraton Grand Convention Center, Bangalore   \n",
       "788           35  23-02-2022  Sheraton Grand Convention Center, Bangalore   \n",
       "789           37  25-02-2022  Sheraton Grand Convention Center, Bangalore   \n",
       "\n",
       "     season  result  \n",
       "785       8       0  \n",
       "786       8       0  \n",
       "787       8       0  \n",
       "788       8       0  \n",
       "789       8       0  "
      ]
     },
     "execution_count": 60,
     "metadata": {},
     "output_type": "execute_result"
    }
   ],
   "source": [
    "dataset.tail()"
   ]
  },
  {
   "cell_type": "code",
   "execution_count": 86,
   "id": "c578f829",
   "metadata": {},
   "outputs": [
    {
     "data": {
      "text/plain": [
       "match_no       100\n",
       "stage           17\n",
       "team1           13\n",
       "team2           13\n",
       "team1_score     41\n",
       "team2_score     46\n",
       "date           467\n",
       "location        30\n",
       "season           8\n",
       "result           3\n",
       "dtype: int64"
      ]
     },
     "execution_count": 86,
     "metadata": {},
     "output_type": "execute_result"
    }
   ],
   "source": [
    "dataset.nunique()"
   ]
  },
  {
   "cell_type": "code",
   "execution_count": 105,
   "id": "a284478f",
   "metadata": {},
   "outputs": [
    {
     "name": "stdout",
     "output_type": "stream",
     "text": [
      "0    361\n",
      "2    348\n",
      "1     81\n",
      "Name: result, dtype: int64\n"
     ]
    },
    {
     "ename": "ValueError",
     "evalue": "Could not interpret input 'result.value_counts()'",
     "output_type": "error",
     "traceback": [
      "\u001b[1;31m---------------------------------------------------------------------------\u001b[0m",
      "\u001b[1;31mValueError\u001b[0m                                Traceback (most recent call last)",
      "\u001b[1;32m~\\AppData\\Local\\Temp/ipykernel_9876/2263465788.py\u001b[0m in \u001b[0;36m<module>\u001b[1;34m\u001b[0m\n\u001b[0;32m      1\u001b[0m \u001b[1;31m##Visualisation Age vs Purchased\u001b[0m\u001b[1;33m\u001b[0m\u001b[1;33m\u001b[0m\u001b[0m\n\u001b[0;32m      2\u001b[0m \u001b[0mprint\u001b[0m\u001b[1;33m(\u001b[0m\u001b[0mdataset\u001b[0m\u001b[1;33m[\u001b[0m\u001b[1;34m\"result\"\u001b[0m\u001b[1;33m]\u001b[0m\u001b[1;33m.\u001b[0m\u001b[0mvalue_counts\u001b[0m\u001b[1;33m(\u001b[0m\u001b[1;33m)\u001b[0m\u001b[1;33m)\u001b[0m\u001b[1;33m\u001b[0m\u001b[1;33m\u001b[0m\u001b[0m\n\u001b[1;32m----> 3\u001b[1;33m \u001b[0msns\u001b[0m\u001b[1;33m.\u001b[0m\u001b[0mboxplot\u001b[0m\u001b[1;33m(\u001b[0m\u001b[1;34m'team1'\u001b[0m\u001b[1;33m,\u001b[0m\u001b[1;34m'result'\u001b[0m\u001b[1;33m,\u001b[0m\u001b[0mhue\u001b[0m\u001b[1;33m=\u001b[0m\u001b[1;34m\"result.value_counts()\"\u001b[0m\u001b[1;33m,\u001b[0m \u001b[0mdata\u001b[0m\u001b[1;33m=\u001b[0m\u001b[0mdataset\u001b[0m\u001b[1;33m)\u001b[0m\u001b[1;33m\u001b[0m\u001b[1;33m\u001b[0m\u001b[0m\n\u001b[0m",
      "\u001b[1;32m~\\anaconda3\\lib\\site-packages\\seaborn\\_decorators.py\u001b[0m in \u001b[0;36minner_f\u001b[1;34m(*args, **kwargs)\u001b[0m\n\u001b[0;32m     44\u001b[0m             )\n\u001b[0;32m     45\u001b[0m         \u001b[0mkwargs\u001b[0m\u001b[1;33m.\u001b[0m\u001b[0mupdate\u001b[0m\u001b[1;33m(\u001b[0m\u001b[1;33m{\u001b[0m\u001b[0mk\u001b[0m\u001b[1;33m:\u001b[0m \u001b[0marg\u001b[0m \u001b[1;32mfor\u001b[0m \u001b[0mk\u001b[0m\u001b[1;33m,\u001b[0m \u001b[0marg\u001b[0m \u001b[1;32min\u001b[0m \u001b[0mzip\u001b[0m\u001b[1;33m(\u001b[0m\u001b[0msig\u001b[0m\u001b[1;33m.\u001b[0m\u001b[0mparameters\u001b[0m\u001b[1;33m,\u001b[0m \u001b[0margs\u001b[0m\u001b[1;33m)\u001b[0m\u001b[1;33m}\u001b[0m\u001b[1;33m)\u001b[0m\u001b[1;33m\u001b[0m\u001b[1;33m\u001b[0m\u001b[0m\n\u001b[1;32m---> 46\u001b[1;33m         \u001b[1;32mreturn\u001b[0m \u001b[0mf\u001b[0m\u001b[1;33m(\u001b[0m\u001b[1;33m**\u001b[0m\u001b[0mkwargs\u001b[0m\u001b[1;33m)\u001b[0m\u001b[1;33m\u001b[0m\u001b[1;33m\u001b[0m\u001b[0m\n\u001b[0m\u001b[0;32m     47\u001b[0m     \u001b[1;32mreturn\u001b[0m \u001b[0minner_f\u001b[0m\u001b[1;33m\u001b[0m\u001b[1;33m\u001b[0m\u001b[0m\n\u001b[0;32m     48\u001b[0m \u001b[1;33m\u001b[0m\u001b[0m\n",
      "\u001b[1;32m~\\anaconda3\\lib\\site-packages\\seaborn\\categorical.py\u001b[0m in \u001b[0;36mboxplot\u001b[1;34m(x, y, hue, data, order, hue_order, orient, color, palette, saturation, width, dodge, fliersize, linewidth, whis, ax, **kwargs)\u001b[0m\n\u001b[0;32m   2241\u001b[0m ):\n\u001b[0;32m   2242\u001b[0m \u001b[1;33m\u001b[0m\u001b[0m\n\u001b[1;32m-> 2243\u001b[1;33m     plotter = _BoxPlotter(x, y, hue, data, order, hue_order,\n\u001b[0m\u001b[0;32m   2244\u001b[0m                           \u001b[0morient\u001b[0m\u001b[1;33m,\u001b[0m \u001b[0mcolor\u001b[0m\u001b[1;33m,\u001b[0m \u001b[0mpalette\u001b[0m\u001b[1;33m,\u001b[0m \u001b[0msaturation\u001b[0m\u001b[1;33m,\u001b[0m\u001b[1;33m\u001b[0m\u001b[1;33m\u001b[0m\u001b[0m\n\u001b[0;32m   2245\u001b[0m                           width, dodge, fliersize, linewidth)\n",
      "\u001b[1;32m~\\anaconda3\\lib\\site-packages\\seaborn\\categorical.py\u001b[0m in \u001b[0;36m__init__\u001b[1;34m(self, x, y, hue, data, order, hue_order, orient, color, palette, saturation, width, dodge, fliersize, linewidth)\u001b[0m\n\u001b[0;32m    404\u001b[0m                  width, dodge, fliersize, linewidth):\n\u001b[0;32m    405\u001b[0m \u001b[1;33m\u001b[0m\u001b[0m\n\u001b[1;32m--> 406\u001b[1;33m         \u001b[0mself\u001b[0m\u001b[1;33m.\u001b[0m\u001b[0mestablish_variables\u001b[0m\u001b[1;33m(\u001b[0m\u001b[0mx\u001b[0m\u001b[1;33m,\u001b[0m \u001b[0my\u001b[0m\u001b[1;33m,\u001b[0m \u001b[0mhue\u001b[0m\u001b[1;33m,\u001b[0m \u001b[0mdata\u001b[0m\u001b[1;33m,\u001b[0m \u001b[0morient\u001b[0m\u001b[1;33m,\u001b[0m \u001b[0morder\u001b[0m\u001b[1;33m,\u001b[0m \u001b[0mhue_order\u001b[0m\u001b[1;33m)\u001b[0m\u001b[1;33m\u001b[0m\u001b[1;33m\u001b[0m\u001b[0m\n\u001b[0m\u001b[0;32m    407\u001b[0m         \u001b[0mself\u001b[0m\u001b[1;33m.\u001b[0m\u001b[0mestablish_colors\u001b[0m\u001b[1;33m(\u001b[0m\u001b[0mcolor\u001b[0m\u001b[1;33m,\u001b[0m \u001b[0mpalette\u001b[0m\u001b[1;33m,\u001b[0m \u001b[0msaturation\u001b[0m\u001b[1;33m)\u001b[0m\u001b[1;33m\u001b[0m\u001b[1;33m\u001b[0m\u001b[0m\n\u001b[0;32m    408\u001b[0m \u001b[1;33m\u001b[0m\u001b[0m\n",
      "\u001b[1;32m~\\anaconda3\\lib\\site-packages\\seaborn\\categorical.py\u001b[0m in \u001b[0;36mestablish_variables\u001b[1;34m(self, x, y, hue, data, orient, order, hue_order, units)\u001b[0m\n\u001b[0;32m    151\u001b[0m                 \u001b[1;32mif\u001b[0m \u001b[0misinstance\u001b[0m\u001b[1;33m(\u001b[0m\u001b[0mvar\u001b[0m\u001b[1;33m,\u001b[0m \u001b[0mstr\u001b[0m\u001b[1;33m)\u001b[0m\u001b[1;33m:\u001b[0m\u001b[1;33m\u001b[0m\u001b[1;33m\u001b[0m\u001b[0m\n\u001b[0;32m    152\u001b[0m                     \u001b[0merr\u001b[0m \u001b[1;33m=\u001b[0m \u001b[1;34m\"Could not interpret input '{}'\"\u001b[0m\u001b[1;33m.\u001b[0m\u001b[0mformat\u001b[0m\u001b[1;33m(\u001b[0m\u001b[0mvar\u001b[0m\u001b[1;33m)\u001b[0m\u001b[1;33m\u001b[0m\u001b[1;33m\u001b[0m\u001b[0m\n\u001b[1;32m--> 153\u001b[1;33m                     \u001b[1;32mraise\u001b[0m \u001b[0mValueError\u001b[0m\u001b[1;33m(\u001b[0m\u001b[0merr\u001b[0m\u001b[1;33m)\u001b[0m\u001b[1;33m\u001b[0m\u001b[1;33m\u001b[0m\u001b[0m\n\u001b[0m\u001b[0;32m    154\u001b[0m \u001b[1;33m\u001b[0m\u001b[0m\n\u001b[0;32m    155\u001b[0m             \u001b[1;31m# Figure out the plotting orientation\u001b[0m\u001b[1;33m\u001b[0m\u001b[1;33m\u001b[0m\u001b[0m\n",
      "\u001b[1;31mValueError\u001b[0m: Could not interpret input 'result.value_counts()'"
     ]
    }
   ],
   "source": [
    "##Visualisation Age vs Purchased\n",
    "print(dataset[\"result\"].value_counts())\n",
    "sns.boxplot('team1','result',hue=\"result\", data=dataset)"
   ]
  },
  {
   "cell_type": "code",
   "execution_count": null,
   "id": "47c57292",
   "metadata": {},
   "outputs": [],
   "source": []
  },
  {
   "cell_type": "code",
   "execution_count": null,
   "id": "625e8e79",
   "metadata": {},
   "outputs": [],
   "source": []
  },
  {
   "cell_type": "code",
   "execution_count": 1,
   "id": "1e010b38",
   "metadata": {},
   "outputs": [
    {
     "ename": "SyntaxError",
     "evalue": "invalid syntax (Temp/ipykernel_9876/3055325888.py, line 2)",
     "output_type": "error",
     "traceback": [
      "\u001b[1;36m  File \u001b[1;32m\"C:\\Users\\dell\\AppData\\Local\\Temp/ipykernel_9876/3055325888.py\"\u001b[1;36m, line \u001b[1;32m2\u001b[0m\n\u001b[1;33m    sns.countplot(x = 'result',hue='team1', data = data = gujarat_giants_matches_Team1)\u001b[0m\n\u001b[1;37m                                                        ^\u001b[0m\n\u001b[1;31mSyntaxError\u001b[0m\u001b[1;31m:\u001b[0m invalid syntax\n"
     ]
    }
   ],
   "source": []
  },
  {
   "cell_type": "code",
   "execution_count": null,
   "id": "e0088123",
   "metadata": {},
   "outputs": [],
   "source": []
  }
 ],
 "metadata": {
  "kernelspec": {
   "display_name": "Python 3 (ipykernel)",
   "language": "python",
   "name": "python3"
  },
  "language_info": {
   "codemirror_mode": {
    "name": "ipython",
    "version": 3
   },
   "file_extension": ".py",
   "mimetype": "text/x-python",
   "name": "python",
   "nbconvert_exporter": "python",
   "pygments_lexer": "ipython3",
   "version": "3.9.7"
  }
 },
 "nbformat": 4,
 "nbformat_minor": 5
}
